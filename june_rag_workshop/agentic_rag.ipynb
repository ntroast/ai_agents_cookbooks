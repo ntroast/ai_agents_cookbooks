{
 "cells": [
  {
   "cell_type": "code",
   "execution_count": 1,
   "metadata": {},
   "outputs": [],
   "source": [
    "# ! pip install --upgrade --quiet langchain langchain-community langchainhub langchain-openai langchain-text-splitters faiss-cpu 'arize-phoenix[evals]'"
   ]
  },
  {
   "cell_type": "code",
   "execution_count": 1,
   "metadata": {},
   "outputs": [],
   "source": [
    "from langchain_community.document_loaders import DirectoryLoader\n",
    "from langchain_text_splitters import RecursiveCharacterTextSplitter"
   ]
  },
  {
   "cell_type": "code",
   "execution_count": 2,
   "metadata": {},
   "outputs": [],
   "source": [
    "import os\n",
    "\n",
    "from dotenv import load_dotenv\n",
    "\n",
    "load_dotenv()\n",
    "\n",
    "OPENAI_API_KEY = os.environ[\"OPENAI_API_KEY\"]"
   ]
  },
  {
   "cell_type": "code",
   "execution_count": 3,
   "metadata": {},
   "outputs": [
    {
     "name": "stderr",
     "output_type": "stream",
     "text": [
      "/Users/nicktroast/Workspace/ai_agents_cookbooks/.venv/lib/python3.12/site-packages/hdbscan/plots.py:448: SyntaxWarning: invalid escape sequence '\\l'\n",
      "  axis.set_ylabel('$\\lambda$ value')\n",
      "/Users/nicktroast/Workspace/ai_agents_cookbooks/.venv/lib/python3.12/site-packages/hdbscan/robust_single_linkage_.py:154: SyntaxWarning: invalid escape sequence '\\{'\n",
      "  \"\"\"Perform robust single linkage clustering from a vector array\n"
     ]
    },
    {
     "name": "stdout",
     "output_type": "stream",
     "text": [
      "🌍 To view the Phoenix app in your browser, visit http://localhost:6006/\n",
      "📖 For more information on how to use Phoenix, check out https://docs.arize.com/phoenix\n"
     ]
    }
   ],
   "source": [
    "import phoenix as px\n",
    "\n",
    "session = px.launch_app()"
   ]
  },
  {
   "cell_type": "code",
   "execution_count": 4,
   "metadata": {},
   "outputs": [],
   "source": [
    "from phoenix.trace.langchain import LangChainInstrumentor\n",
    "\n",
    "LangChainInstrumentor().instrument()"
   ]
  },
  {
   "cell_type": "code",
   "execution_count": 6,
   "metadata": {},
   "outputs": [],
   "source": [
    "text_splitter = RecursiveCharacterTextSplitter(chunk_size=1024, chunk_overlap=128)\n",
    "loader = DirectoryLoader(\"../city_data\")\n",
    "docs = loader.load_and_split(text_splitter=text_splitter)"
   ]
  },
  {
   "cell_type": "code",
   "execution_count": 11,
   "metadata": {},
   "outputs": [],
   "source": [
    "from langchain_community.vectorstores import FAISS\n",
    "from langchain_community.embeddings import OllamaEmbeddings\n",
    "\n",
    "embeddings = OllamaEmbeddings(model=\"mxbai-embed-large\")\n",
    "db = FAISS.from_documents(docs, embeddings)"
   ]
  },
  {
   "cell_type": "code",
   "execution_count": 12,
   "metadata": {},
   "outputs": [],
   "source": [
    "retriever = db.as_retriever()"
   ]
  },
  {
   "cell_type": "code",
   "execution_count": 23,
   "metadata": {},
   "outputs": [],
   "source": [
    "from langchain.tools.retriever import create_retriever_tool\n",
    "\n",
    "tool = create_retriever_tool(\n",
    "    retriever,\n",
    "    \"city_search\",\n",
    "    \"Search for information about cities. For any questions about cities, you must use this tool.\",\n",
    ")\n",
    "tools = [tool]"
   ]
  },
  {
   "cell_type": "code",
   "execution_count": 24,
   "metadata": {},
   "outputs": [
    {
     "data": {
      "text/plain": [
       "[SystemMessagePromptTemplate(prompt=PromptTemplate(input_variables=[], template='You are a helpful assistant')),\n",
       " MessagesPlaceholder(variable_name='chat_history', optional=True),\n",
       " HumanMessagePromptTemplate(prompt=PromptTemplate(input_variables=['input'], template='{input}')),\n",
       " MessagesPlaceholder(variable_name='agent_scratchpad')]"
      ]
     },
     "execution_count": 24,
     "metadata": {},
     "output_type": "execute_result"
    }
   ],
   "source": [
    "from langchain import hub\n",
    "\n",
    "prompt = hub.pull(\"hwchase17/openai-tools-agent\")\n",
    "prompt.messages"
   ]
  },
  {
   "cell_type": "code",
   "execution_count": 25,
   "metadata": {},
   "outputs": [],
   "source": [
    "from langchain_openai import ChatOpenAI\n",
    "\n",
    "llm = ChatOpenAI(model=\"llama3\", temperature=0, verbose=True, base_url=\"http://localhost:11434/v1\")"
   ]
  },
  {
   "cell_type": "code",
   "execution_count": 26,
   "metadata": {},
   "outputs": [],
   "source": [
    "from langchain.agents import AgentExecutor, create_openai_tools_agent\n",
    "\n",
    "agent = create_openai_tools_agent(llm, tools, prompt)\n",
    "agent_executor = AgentExecutor(agent=agent, tools=tools)"
   ]
  },
  {
   "cell_type": "code",
   "execution_count": 28,
   "metadata": {},
   "outputs": [],
   "source": [
    "result = agent_executor.invoke(\n",
    "    {\"input\": \"Which city has the best food?\"}\n",
    ")"
   ]
  },
  {
   "cell_type": "code",
   "execution_count": 29,
   "metadata": {},
   "outputs": [
    {
     "data": {
      "text/plain": [
       "'What a delicious question!\\n\\nThe answer, of course, is subjective and depends on personal taste preferences. However, I can give you some insights based on popular opinions and culinary reputations.\\n\\nHere are some cities known for their exceptional food scenes:\\n\\n1. **New Orleans, Louisiana**: Known as the birthplace of jazz, NOLA is also famous for its Creole and Cajun cuisine. Beignets at Cafe du Monde, gumbo, jambalaya, po\\' boys, and beignet-filled breakfasts are just a few reasons to visit.\\n2. **Tokyo, Japan**: This city is a food lover\\'s paradise! From sushi to ramen, tempura to yakitori, Tokyo offers an incredible variety of flavors and textures. Don\\'t miss the Tsukiji Fish Market for fresh sushi and seafood.\\n3. **Bangkok, Thailand**: Street food heaven! Bangkok\\'s night markets and street stalls serve up spicy tom yum soup, fragrant pad thai, and sweet mango sticky rice. Try the famous boat noodles or indulge in a luxurious dinner at one of the many Michelin-starred restaurants.\\n4. **New York City, USA**: The Big Apple is home to a diverse culinary landscape. From classic New York-style pizza to bagels with lox, pastrami sandwiches, and iconic diners like Katz\\'s Delicatessen, there\\'s something for every taste bud.\\n5. **Barcelona, Spain**: Tapas, anyone? This vibrant city offers an array of small plates, from patatas bravas (spicy fried potatoes) to croquetas and tortilla española. Don\\'t miss the famous La Boqueria Market for fresh produce and artisanal goods.\\n6. **Vancouver, Canada**: This Pacific Northwest city boasts a thriving food scene with influences from Asian cuisine, seafood, and farm-to-table freshness. Try the famous Granville Island Public Market or visit Chinatown for authentic dim sum.\\n7. **Rome, Italy**: The Eternal City is renowned for its rich culinary heritage. Indulge in carbonara, amatriciana, and cacio e pepe pasta dishes, as well as classic Roman-style pizza and gelato.\\n8. **Singapore**: This cosmopolitan city-state is a melting pot of flavors from around the world. Try chili crab, Hainanese chicken rice, or laksa (spicy noodle soup) at one of the many hawker centers or restaurants.\\n9. **Mumbai, India**: The financial capital of India offers an incredible array of street food and fine dining options. From vada pav to pani puri, and from seafood thalis to traditional Gujarati cuisine, there\\'s something for every palate.\\n10. **Portland, Oregon, USA**: This quirky city is famous for its food trucks, craft beer, and artisanal donuts. Visit the iconic Voodoo Doughnut or try one of the many excellent restaurants serving up farm-to-table goodness.\\n\\nOf course, this is not an exhaustive list, and there are countless other cities with incredible food scenes. Ultimately, the \"best\" city for food is the one that resonates with your personal taste preferences!\\n\\nWhich city\\'s cuisine do you think you\\'d enjoy most?'"
      ]
     },
     "execution_count": 29,
     "metadata": {},
     "output_type": "execute_result"
    }
   ],
   "source": [
    "result[\"output\"]"
   ]
  },
  {
   "cell_type": "code",
   "execution_count": null,
   "metadata": {},
   "outputs": [],
   "source": []
  }
 ],
 "metadata": {
  "kernelspec": {
   "display_name": "newenv",
   "language": "python",
   "name": "python3"
  },
  "language_info": {
   "codemirror_mode": {
    "name": "ipython",
    "version": 3
   },
   "file_extension": ".py",
   "mimetype": "text/x-python",
   "name": "python",
   "nbconvert_exporter": "python",
   "pygments_lexer": "ipython3",
   "version": "3.12.4"
  }
 },
 "nbformat": 4,
 "nbformat_minor": 2
}
